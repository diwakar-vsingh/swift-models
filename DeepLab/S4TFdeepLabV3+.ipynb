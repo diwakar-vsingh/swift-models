{
  "nbformat": 4,
  "nbformat_minor": 0,
  "metadata": {
    "colab": {
      "name": "S4TFdeepLabV3+.ipynb",
      "provenance": [],
      "collapsed_sections": [],
      "machine_shape": "hm",
      "authorship_tag": "ABX9TyNMvcPZrKMP+Ki1xPc4W+CA",
      "include_colab_link": true
    },
    "kernelspec": {
      "name": "swift",
      "display_name": "Swift"
    }
  },
  "cells": [
    {
      "cell_type": "markdown",
      "metadata": {
        "id": "view-in-github",
        "colab_type": "text"
      },
      "source": [
        "<a href=\"https://colab.research.google.com/github/diwakar-vsingh/swift-models/blob/DeepLab/DeepLab/S4TFdeepLabV3%2B.ipynb\" target=\"_parent\"><img src=\"https://colab.research.google.com/assets/colab-badge.svg\" alt=\"Open In Colab\"/></a>"
      ]
    },
    {
      "cell_type": "markdown",
      "metadata": {
        "id": "SVR6cPiOHcNj"
      },
      "source": [
        "## Setup Program"
      ]
    },
    {
      "cell_type": "markdown",
      "metadata": {
        "id": "rIffD1izHe4I"
      },
      "source": [
        "### Import Standard Swift Libraries"
      ]
    },
    {
      "cell_type": "code",
      "metadata": {
        "colab": {
          "base_uri": "https://localhost:8080/"
        },
        "id": "L8XaOWUO6rq0",
        "outputId": "a17c82b5-eb8b-4740-f347-09986a864d6e"
      },
      "source": [
        "import TensorFlow\n",
        "import Python\n",
        "import Foundation\n",
        "import Path\n",
        "import Just"
      ],
      "execution_count": null,
      "outputs": [
        {
          "output_type": "stream",
          "text": [
            "2020-11-28 02:05:03.555136: I tensorflow/stream_executor/platform/default/dso_loader.cc:48] Successfully opened dynamic library libcudart.so.10.1\r\n"
          ],
          "name": "stdout"
        }
      ]
    },
    {
      "cell_type": "markdown",
      "metadata": {
        "id": "3QUmIJG3Hjox"
      },
      "source": [
        "### Import Python Libraries"
      ]
    },
    {
      "cell_type": "code",
      "metadata": {
        "id": "arR49UWuRZiI"
      },
      "source": [
        "%include \"EnableIPythonDisplay.swift\"\n",
        "IPythonDisplay.shell.enable_matplotlib(\"inline\")\n",
        "\n",
        "let plt = Python.import(\"matplotlib.pyplot\")\n",
        "let np  = Python.import(\"numpy\")\n",
        "let subprocess = Python.import(\"subprocess\")\n",
        "let glob = Python.import(\"glob\")\n",
        "let pil = Python.import(\"PIL\")\n",
        "let tf = Python.import(\"tensorflow\")\n",
        "let h5py = Python.import(\"h5py\")\n",
        "let os = Python.import(\"os\")\n",
        "let shutil = Python.import(\"shutil\")"
      ],
      "execution_count": null,
      "outputs": []
    },
    {
      "cell_type": "markdown",
      "metadata": {
        "id": "8_j0wjAHHp09"
      },
      "source": [
        "## Import Model Weights"
      ]
    },
    {
      "cell_type": "code",
      "metadata": {
        "id": "cyhUXHm7aSO9"
      },
      "source": [
        "let modelName = \"deeplabv3plus\"\n",
        "let backbone = \"xception\"\n",
        "\n",
        "struct Weights {\n",
        "    let name: String\n",
        "    let layer: Tensor<Float>\n",
        "}\n",
        "\n",
        "func get_pretrained_weights_dict(modelName: String, backbone: String) -> Array<Weights> {\n",
        "  var f = Python.None\n",
        "  let weightFileName = \"\\(modelName)_\\(backbone).npz\"\n",
        "  let weights = np.load(weightFileName)\n",
        "\n",
        "  var weights_array = Array<Weights>()\n",
        "  for param in weights {\n",
        "      weights_array.append(Weights(name: String(param)!, layer: Tensor<Float>(numpy: weights[param])!))\n",
        "  }\n",
        "  return weights_array\n",
        "}\n",
        "\n",
        "var weightsDict = get_pretrained_weights_dict(modelName: model_name, backbone: backbone)"
      ],
      "execution_count": null,
      "outputs": []
    },
    {
      "cell_type": "code",
      "metadata": {
        "colab": {
          "base_uri": "https://localhost:8080/"
        },
        "id": "WkUUjHiKjI1l",
        "outputId": "d18f635c-13e7-4944-db1f-68dee96194f8"
      },
      "source": [
        "// shutil.rmtree(\"planet_tiny/\")"
      ],
      "execution_count": null,
      "outputs": [
        {
          "output_type": "execute_result",
          "data": {
            "text/plain": [
              "Use `print()` to show values.\n"
            ]
          },
          "metadata": {
            "tags": []
          },
          "execution_count": 20
        }
      ]
    },
    {
      "cell_type": "code",
      "metadata": {
        "colab": {
          "base_uri": "https://localhost:8080/"
        },
        "id": "pRLJqpm9auAO",
        "outputId": "201160d5-be01-446f-b4a0-f65717d18f29"
      },
      "source": [
        "let command = \"wget -nv -O- http://download.tensorflow.org/models/deeplabv3_pascal_trainval_2018_01_04.tar.gz | tar xzf - -C .\"\n",
        "subprocess.call(command, shell: true)"
      ],
      "execution_count": null,
      "outputs": [
        {
          "output_type": "stream",
          "text": [
            "2020-11-26 21:18:11 URL:http://download.tensorflow.org/models/deeplabv3_pascal_trainval_2018_01_04.tar.gz [460669898/460669898] -> \"-\" [1]\r\n"
          ],
          "name": "stdout"
        },
        {
          "output_type": "execute_result",
          "data": {
            "text/plain": [
              "Use `print()` to show values.\n"
            ]
          },
          "metadata": {
            "tags": []
          },
          "execution_count": 15
        }
      ]
    },
    {
      "cell_type": "markdown",
      "metadata": {
        "id": "cvtmk_oGGWEy"
      },
      "source": [
        "## Configure Model"
      ]
    },
    {
      "cell_type": "markdown",
      "metadata": {
        "id": "pK0EnLM3GZub"
      },
      "source": [
        "### Modified DeptwiseConv2D as DepthConv2D "
      ]
    },
    {
      "cell_type": "code",
      "metadata": {
        "id": "aOMlETBF3hte"
      },
      "source": [
        "import _Differentiation\n",
        "\n",
        "@differentiable(wrt: (input, filter))\n",
        "public func depthConv2D<Scalar: TensorFlowFloatingPoint>(\n",
        "  _ input: Tensor<Scalar>,\n",
        "  filter: Tensor<Scalar>,\n",
        "  strides: (Int, Int, Int, Int),\n",
        "  padding: Padding,\n",
        "  dilations: (Int, Int, Int, Int)\n",
        ") -> Tensor<Scalar> {\n",
        "  precondition(input.shape.rank == 4, \"The input must have rank 4.\")\n",
        "  precondition(filter.shape.rank == 4, \"The filter must have rank 4.\")\n",
        "  return _Raw.depthwiseConv2dNative(\n",
        "    input,\n",
        "    filter: filter,\n",
        "    strides: [Int32(strides.0), Int32(strides.1), Int32(strides.2), Int32(strides.3)],\n",
        "    padding: padding.raw,\n",
        "    dilations: [Int32(dilations.0), Int32(dilations.1), Int32(dilations.2), Int32(dilations.3)])\n",
        "}\n",
        "\n",
        "@usableFromInline\n",
        "@derivative(of: depthConv2D)\n",
        "func _vjpDepthConv2D<Scalar: TensorFlowFloatingPoint>(\n",
        "  _ x: Tensor<Scalar>,\n",
        "  filter: Tensor<Scalar>,\n",
        "  strides: (Int, Int, Int, Int),\n",
        "  padding: Padding,\n",
        "  dilations: (Int, Int, Int, Int)\n",
        ") -> (value: Tensor<Scalar>, pullback: (Tensor<Scalar>) -> (Tensor<Scalar>, Tensor<Scalar>)) {\n",
        "  let value = depthConv2D(\n",
        "    x, filter: filter, strides: strides,\n",
        "    padding: padding, dilations: dilations)\n",
        "  return (\n",
        "    value,\n",
        "    { v in\n",
        "      (\n",
        "        depthConv2dBackpropInput(\n",
        "          v, shape: x.shapeTensor, filter: filter,\n",
        "          strides: strides, padding: padding, dilations: dilations),\n",
        "        depthConv2dBackpropFilter(\n",
        "          v, input: x, filterSizes: filter.shapeTensor,\n",
        "          strides: strides, padding: padding, dilations: dilations)\n",
        "      )\n",
        "    }\n",
        "  )\n",
        "}\n",
        "\n",
        "/// TensorFlow builtin depthwiseConv2D gradient helper for the input.\n",
        "@differentiable(wrt: (x, filter))\n",
        "@usableFromInline\n",
        "func depthConv2dBackpropInput<Scalar: TensorFlowFloatingPoint>(\n",
        "  _ x: Tensor<Scalar>,\n",
        "  shape: Tensor<Int32>,\n",
        "  filter: Tensor<Scalar>,\n",
        "  strides: (Int, Int, Int, Int),\n",
        "  padding: Padding,\n",
        "  dilations: (Int, Int, Int, Int)\n",
        ") -> Tensor<Scalar> {\n",
        "  return _Raw.depthwiseConv2dNativeBackpropInput(\n",
        "    inputSizes: shape,\n",
        "    filter: filter,\n",
        "    outBackprop: x,\n",
        "    strides: [Int32(strides.0), Int32(strides.1), Int32(strides.2), Int32(strides.3)],\n",
        "    padding: padding.raw,\n",
        "    dilations: [Int32(dilations.0), Int32(dilations.1), Int32(dilations.2), Int32(dilations.3)])\n",
        "}\n",
        "\n",
        "@usableFromInline\n",
        "@derivative(of: depthConv2dBackpropInput)\n",
        "func _vjpDepthConv2dBackpropInput<Scalar: TensorFlowFloatingPoint>(\n",
        "  _ x: Tensor<Scalar>,\n",
        "  _ shape: Tensor<Int32>,\n",
        "  _ filter: Tensor<Scalar>,\n",
        "  _ strides: (Int, Int, Int, Int),\n",
        "  _ padding: Padding,\n",
        "  _ dilations: (Int, Int, Int, Int)\n",
        ") -> (value: Tensor<Scalar>, pullback: (Tensor<Scalar>) -> (Tensor<Scalar>, Tensor<Scalar>)) {\n",
        "  let value = depthConv2dBackpropInput(\n",
        "    x, shape: shape, filter: filter, strides: strides,\n",
        "    padding: padding, dilations: dilations)\n",
        "  return (\n",
        "    value,\n",
        "    { v in\n",
        "      (\n",
        "        depthConv2D(v, filter: filter, strides: strides, padding: padding, dilations: dilations),\n",
        "        depthConv2dBackpropFilter(\n",
        "          x, input: v, filterSizes: filter.shapeTensor,\n",
        "          strides: strides, padding: padding, dilations: dilations)\n",
        "      )\n",
        "\n",
        "    }\n",
        "  )\n",
        "}\n",
        "\n",
        "/// TensorFlow builtin depthwiseConv2D gradient helper for the filter.\n",
        "@differentiable(wrt: (x, input))\n",
        "@usableFromInline\n",
        "func depthConv2dBackpropFilter<Scalar: TensorFlowFloatingPoint>(\n",
        "  _ x: Tensor<Scalar>,\n",
        "  input: Tensor<Scalar>,\n",
        "  filterSizes: Tensor<Int32>,\n",
        "  strides: (Int, Int, Int, Int),\n",
        "  padding: Padding,\n",
        "  dilations: (Int, Int, Int, Int)\n",
        ") -> Tensor<Scalar> {\n",
        "  return _Raw.depthwiseConv2dNativeBackpropFilter(\n",
        "    input,\n",
        "    filterSizes: filterSizes,\n",
        "    outBackprop: x,\n",
        "    strides: [Int32(strides.0), Int32(strides.1), Int32(strides.2), Int32(strides.3)],\n",
        "    padding: padding.raw,\n",
        "    dilations: [Int32(dilations.0), Int32(dilations.1), Int32(dilations.2), Int32(dilations.3)])\n",
        "}\n",
        "\n",
        "@usableFromInline\n",
        "@derivative(of: depthConv2dBackpropFilter)\n",
        "func _vjpDepthConv2dBackpropFilter<Scalar: TensorFlowFloatingPoint>(\n",
        "  _ x: Tensor<Scalar>,\n",
        "  _ input: Tensor<Scalar>,\n",
        "  _ filterSizes: Tensor<Int32>,\n",
        "  _ strides: (Int, Int, Int, Int),\n",
        "  _ padding: Padding,\n",
        "  _ dilations: (Int, Int, Int, Int)\n",
        ") -> (value: Tensor<Scalar>, pullback: (Tensor<Scalar>) -> (Tensor<Scalar>, Tensor<Scalar>)) {\n",
        "  let value = depthConv2dBackpropFilter(\n",
        "    x, input: input, filterSizes: filterSizes,\n",
        "    strides: strides, padding: padding, dilations: dilations)\n",
        "  return (\n",
        "    value,\n",
        "    { v in\n",
        "      (\n",
        "        depthConv2D(input, filter: v, strides: strides, padding: padding, dilations: dilations),\n",
        "        depthConv2dBackpropInput(\n",
        "          x, shape: x.shapeTensor, filter: v, strides: strides,\n",
        "          padding: padding, dilations: dilations)\n",
        "      )\n",
        "    }\n",
        "  )\n",
        "}"
      ],
      "execution_count": null,
      "outputs": []
    },
    {
      "cell_type": "code",
      "metadata": {
        "id": "0ejzbuPX5dmk"
      },
      "source": [
        "@frozen\n",
        "public struct DepthConv2D<Scalar: TensorFlowFloatingPoint>: Layer {\n",
        "  /// The 4-D convolution kernel.\n",
        "  public var filter: Tensor<Scalar>\n",
        "  /// The bias vector.\n",
        "  public var bias: Tensor<Scalar>\n",
        "  /// The element-wise activation function.\n",
        "  @noDerivative public let activation: Activation\n",
        "  /// The strides of the sliding window for spatial dimensions.\n",
        "  @noDerivative public let strides: (Int, Int)\n",
        "  /// The padding algorithm for convolution.\n",
        "  @noDerivative public let padding: Padding\n",
        "  /// The dilation factor for spatial dimensions.\n",
        "  @noDerivative public let dilations: (Int, Int)\n",
        "  /// Note: `useBias` is a workaround for TF-1153: optional differentiation support.\n",
        "  @noDerivative private let useBias: Bool\n",
        "\n",
        "  /// The element-wise activation function type.\n",
        "  public typealias Activation = @differentiable (Tensor<Scalar>) -> Tensor<Scalar>\n",
        "\n",
        "  /// Creates a `DepthwiseConv2D` layer with the specified filter, bias, activation function,\n",
        "  /// strides, and padding.\n",
        "  ///\n",
        "  /// - Parameters:\n",
        "  ///   - filter: The 4-D convolution kernel.\n",
        "  ///   - bias: The bias vector.\n",
        "  ///   - activation: The element-wise activation function.\n",
        "  ///   - strides: The strides of the sliding window for spatial dimensions.\n",
        "  ///   - padding: The padding algorithm for convolution.\n",
        "  ///   - dilations: The dilation factors for spatial dimensions.\n",
        "  \n",
        "  public init(\n",
        "    filter: Tensor<Scalar>,\n",
        "    bias: Tensor<Scalar>? = nil,\n",
        "    activation: @escaping Activation = identity,\n",
        "    strides: (Int, Int) = (1, 1),\n",
        "    padding: Padding = .valid,\n",
        "    dilations: (Int, Int) = (1, 1)\n",
        "  ) {\n",
        "    self.filter = filter\n",
        "    self.bias = bias ?? .zero\n",
        "    self.activation = activation\n",
        "    self.strides = strides\n",
        "    self.padding = padding\n",
        "    self.dilations = dilations\n",
        "    useBias = (bias != nil)\n",
        "  }\n",
        "\n",
        "  /// Returns the output obtained from applying the layer to the given input.\n",
        "  ///\n",
        "  /// - Parameter input: The input to the layer of shape,\n",
        "  ///   [batch count, input height, input width, input channel count]\n",
        "  /// - Returns: The output of shape,\n",
        "  ///   [batch count, output height, output width, input channel count * channel multiplier]\n",
        "  @differentiable\n",
        "  public func forward(_ input: Tensor<Scalar>) -> Tensor<Scalar> {\n",
        "    let conv = depthConv2D(\n",
        "      input,\n",
        "      filter: filter,\n",
        "      strides: (1, strides.0, strides.1, 1),\n",
        "      padding: padding,\n",
        "      dilations: (1, dilations.0, dilations.1, 1))\n",
        "    return activation(useBias ? (conv + bias) : conv)\n",
        "  }\n",
        "}\n",
        "\n",
        "extension DepthConv2D {\n",
        "  /// Creates a `DepthwiseConv2D` layer with the specified filter shape, strides, padding, and\n",
        "  /// element-wise activation function.\n",
        "  ///\n",
        "  /// - Parameters:\n",
        "  ///   - filterShape: The shape of the 4-D convolution kernel with form,\n",
        "  ///     [filter width, filter height, input channel count, channel multiplier].\n",
        "  ///   - strides: The strides of the sliding window for spatial/spatio-temporal dimensions.\n",
        "  ///   - padding: The padding algorithm for convolution.\n",
        "  ///   - dilations: The dilation factors for spatial dimensions.\n",
        "  ///   - activation: The element-wise activation function.\n",
        "  ///   - filterInitializer: Initializer to use for the filter parameters.\n",
        "  ///   - biasInitializer: Initializer to use for the bias parameters.\n",
        "  public init(\n",
        "    filterShape: (Int, Int, Int, Int),\n",
        "    strides: (Int, Int) = (1, 1),\n",
        "    padding: Padding = .valid,\n",
        "    dilations: (Int, Int) = (1, 1),\n",
        "    activation: @escaping Activation = identity,\n",
        "    useBias: Bool = true,\n",
        "    filterInitializer: ParameterInitializer<Scalar> = glorotUniform(),\n",
        "    biasInitializer: ParameterInitializer<Scalar> = zeros()\n",
        "  ) {\n",
        "    let filterTensorShape = TensorShape([\n",
        "      filterShape.0, filterShape.1, filterShape.2, filterShape.3,\n",
        "    ])\n",
        "    self.init(\n",
        "      filter: filterInitializer(filterTensorShape),\n",
        "      bias: useBias ? biasInitializer([filterShape.2 * filterShape.3]) : nil,\n",
        "      activation: activation,\n",
        "      strides: strides,\n",
        "      padding: padding,\n",
        "      dilations: dilations)\n",
        "  }\n",
        "}"
      ],
      "execution_count": null,
      "outputs": []
    },
    {
      "cell_type": "code",
      "metadata": {
        "colab": {
          "base_uri": "https://localhost:8080/"
        },
        "id": "Uq3NxKZzjRw_",
        "outputId": "81175d44-24c3-4142-b9d2-6e0766e874fc"
      },
      "source": [
        "let input = Tensor<Float>(ones: [1, 256, 256, 64])\n",
        "let dconv = DepthConv2D<Float>(filterShape: (3, 3, 64, 1))\n",
        "let output = dconv(input)\n",
        "print(output.shape)"
      ],
      "execution_count": null,
      "outputs": [
        {
          "output_type": "stream",
          "text": [
            "[1, 254, 254, 64]\r\n"
          ],
          "name": "stdout"
        }
      ]
    },
    {
      "cell_type": "markdown",
      "metadata": {
        "id": "q7a_j5GtGjIK"
      },
      "source": [
        "### Xception Modules"
      ]
    },
    {
      "cell_type": "markdown",
      "metadata": {
        "id": "IfFp7agpG1dT"
      },
      "source": [
        "#### ConvBlock"
      ]
    },
    {
      "cell_type": "code",
      "metadata": {
        "id": "s4Kji5-KGvfC"
      },
      "source": [
        "public struct ConvBlock: Layer {\n",
        "  @noDerivative public var applyBatchNorm: Bool\n",
        "  @noDerivative public var depthAct: Bool\n",
        "  @noDerivative public var applyDropout: Bool\n",
        "\n",
        "  public var conv: Conv2D<Float>\n",
        "  public var batchNorm: BatchNorm<Float>\n",
        "  public var dropout: Dropout<Float>\n",
        "\n",
        "  public init(\n",
        "    filterShape: (Int, Int, Int, Int),\n",
        "    strides: (Int, Int) = (1,1),\n",
        "    useBias: Bool = false,\n",
        "    epsilon: Float = 1e-3,\n",
        "    applyBatchNorm: Bool = true,\n",
        "    depthAct: Bool = true,\n",
        "    applyDropout: Bool = false,\n",
        "    probability: Double = 0.1\n",
        "  ){\n",
        "    self.applyBatchNorm = applyBatchNorm\n",
        "    self.depthAct = depthAct\n",
        "    self.applyDropout = applyDropout\n",
        "    \n",
        "    conv = Conv2D<Float>(\n",
        "      filterShape: filterShape, \n",
        "      strides: strides, \n",
        "      padding: .same, \n",
        "      useBias: useBias)\n",
        "    batchNorm = BatchNorm<Float>(featureCount: filterShape.3, epsilon: epsilon)\n",
        "    dropout = Dropout<Float>(probability: probability)\n",
        "  }\n",
        "\n",
        "  @differentiable\n",
        "  public func callAsFunction(_ input: Tensor<Float>) -> Tensor<Float>{\n",
        "    var convolved: Tensor<Float>\n",
        "    if self.applyBatchNorm {\n",
        "      convolved = input.sequenced(through: conv, batchNorm)\n",
        "    } else {\n",
        "      convolved = conv(input)\n",
        "    }\n",
        "    if self.depthAct {\n",
        "      convolved = relu(convolved)\n",
        "    } \n",
        "    if self.applyDropout {\n",
        "      convolved = dropout(convolved)\n",
        "    } \n",
        "    return convolved\n",
        "  }\n",
        "}"
      ],
      "execution_count": null,
      "outputs": []
    },
    {
      "cell_type": "markdown",
      "metadata": {
        "id": "nMvi591QG3e4"
      },
      "source": [
        "#### DepthwiseConvBlock"
      ]
    },
    {
      "cell_type": "code",
      "metadata": {
        "id": "NHGA6tKg6W2Y"
      },
      "source": [
        "public struct DepthwiseConvBlock: Layer {\n",
        "  @noDerivative let strides: (Int, Int)\n",
        "  @noDerivative public var depthAct: Bool\n",
        "\n",
        "  public var dConv: DepthConv2D<Float>\n",
        "  public var batchNorm1: BatchNorm<Float>\n",
        "  public var conv: Conv2D<Float>\n",
        "  public var batchNorm2: BatchNorm<Float>\n",
        "\n",
        "  public init(\n",
        "    filterShape: (Int, Int, Int, Int),\n",
        "    strides: (Int, Int) = (1,1),  \n",
        "    dilations: Int = 1, \n",
        "    epsilon: Float = 1e-3,\n",
        "    depthAct: Bool = false\n",
        "    ) {\n",
        "      self.strides = strides\n",
        "      self.depthAct = depthAct\n",
        "\n",
        "      dConv = DepthConv2D<Float>(\n",
        "        filterShape: (3, 3, filterShape.2, 1),\n",
        "        strides: strides,\n",
        "        padding: .same,\n",
        "        dilations: (dilations, dilations),\n",
        "        useBias: false)\n",
        "      batchNorm1 = BatchNorm<Float>(featureCount: filterShape.2, epsilon: epsilon)\n",
        "    \n",
        "      conv = Conv2D<Float>(\n",
        "        filterShape: (1, 1, filterShape.2, filterShape.3),\n",
        "        strides: (1,1),\n",
        "        padding: .same,\n",
        "        useBias: false)\n",
        "      batchNorm2 = BatchNorm<Float>(featureCount: filterShape.3, epsilon: epsilon)\n",
        "      }\n",
        "\n",
        "  @differentiable\n",
        "  public func callAsFunction(_ input: Tensor<Float>) -> Tensor<Float> {\n",
        "    var convolved1 = input\n",
        "    if !self.depthAct {\n",
        "      convolved1 = relu(input)\n",
        "    }\n",
        "    convolved1 = convolved1.sequenced(through: dConv, batchNorm1)\n",
        "\n",
        "    if self.depthAct {convolved1 = relu(convolved1)}\n",
        "    var convolved2 = convolved1.sequenced(through: conv, batchNorm2)\n",
        "\n",
        "    if self.depthAct {convolved2 = relu(convolved2)}\n",
        "    return convolved2\n",
        "  }\n",
        "}"
      ],
      "execution_count": null,
      "outputs": []
    },
    {
      "cell_type": "code",
      "metadata": {
        "colab": {
          "base_uri": "https://localhost:8080/"
        },
        "id": "17tQrJikg1UQ",
        "outputId": "8b63b041-6063-4a2a-8fc0-7c410f7b0bfc"
      },
      "source": [
        "let input = Tensor<Float> (ones: [1, 256, 256, 64])\n",
        "let conv = DepthwiseConvBlock(filterShape: (3, 3, 64, 128), dilations: 2)\n",
        "let conv2 = DepthwiseConvBlock(filterShape: (3, 3, 728, 728)), dilations: dilationRates.0)\n",
        "let temp = conv(input)\n",
        "print(temp.shape)"
      ],
      "execution_count": null,
      "outputs": [
        {
          "output_type": "stream",
          "text": [
            "[1, 256, 256, 128]\r\n"
          ],
          "name": "stdout"
        }
      ]
    },
    {
      "cell_type": "code",
      "metadata": {
        "id": "rpk6Y0d9sf-O"
      },
      "source": [
        "public struct MiddleFlow: Layer {\n",
        "  public var middleBlock: [DepthwiseConvBlock] = []\n",
        "\n",
        "  public init() {\n",
        "    middleBlock.append(DepthwiseConvBlock(filterShape: (3, 3, 728, 728)))\n",
        "    middleBlock.append(DepthwiseConvBlock(filterShape: (3, 3, 728, 728)))\n",
        "    middleBlock.append(DepthwiseConvBlock(filterShape: (3, 3, 728, 728)))\n",
        "  }\n",
        "\n",
        "  @differentiable\n",
        "  public func callAsFunction(_ input: Tensor<Float>) -> Tensor<Float> {\n",
        "    return middleBlock.differentiableReduce(input) {$1($0)}\n",
        "  }\n",
        "}"
      ],
      "execution_count": null,
      "outputs": []
    },
    {
      "cell_type": "code",
      "metadata": {
        "colab": {
          "base_uri": "https://localhost:8080/"
        },
        "id": "8HrcfXCytbUL",
        "outputId": "3f5f5538-990e-43ae-e8dd-f564f818635b"
      },
      "source": [
        "let input = Tensor<Float> (ones: [1, 32, 32, 728])\n",
        "let conv = MiddleFlow()\n",
        "let temp = conv(input)\n",
        "print(temp.shape)"
      ],
      "execution_count": null,
      "outputs": [
        {
          "output_type": "stream",
          "text": [
            "[1, 32, 32, 728]\r\n"
          ],
          "name": "stdout"
        }
      ]
    },
    {
      "cell_type": "markdown",
      "metadata": {
        "id": "PNKGtOvEG5up"
      },
      "source": [
        "#### ASPP Block"
      ]
    },
    {
      "cell_type": "code",
      "metadata": {
        "id": "2fogE_5JGzpa"
      },
      "source": [
        "public struct ASPPLayer: Layer {\n",
        "  \n",
        "  public var dConv: DepthConv2D<Float>\n",
        "  public var batchNorm1: BatchNorm<Float>\n",
        "  public var conv: Conv2D<Float>\n",
        "  public var batchNorm2: BatchNorm<Float>\n",
        "\n",
        "  public init(\n",
        "    filterShape: (Int, Int, Int, Int),\n",
        "    dilations: Int = 1,\n",
        "    epsilon: Float = 1e-5\n",
        "  ){\n",
        "    dConv = DepthConv2D<Float>(\n",
        "      filterShape: (3, 3, filterShape.2, 1),\n",
        "      strides: (1,1),\n",
        "      padding: .same,\n",
        "      dilations: (dilations, dilations),\n",
        "      useBias: false)\n",
        "    batchNorm1 = BatchNorm<Float>(featureCount: filterShape.2, epsilon: epsilon)\n",
        "    \n",
        "    conv = Conv2D<Float>(\n",
        "        filterShape: (1, 1, filterShape.2, filterShape.3),\n",
        "        strides: (1,1),\n",
        "        padding: .same,\n",
        "        useBias: false)\n",
        "    batchNorm2 = BatchNorm<Float>(featureCount: filterShape.3, epsilon: epsilon)\n",
        "  }\n",
        "\n",
        "  @differentiable\n",
        "  public func callAsFunction(_ input: Tensor<Float>) -> Tensor<Float>{\n",
        "    var convolved = relu(input.sequenced(through: dConv, batchNorm1))\n",
        "    convolved = relu(convolved.sequenced(through: conv, batchNorm2))\n",
        "    return convolved\n",
        "  }\n",
        "}"
      ],
      "execution_count": null,
      "outputs": []
    },
    {
      "cell_type": "code",
      "metadata": {
        "colab": {
          "base_uri": "https://localhost:8080/"
        },
        "id": "bR-M4i3tmhDY",
        "outputId": "ac67280f-1c10-41e2-876b-f13cebb522de"
      },
      "source": [
        "let input = Tensor<Float>(ones: [1, 32, 32, 2048])\n",
        "let aspp = ASPPLayer(filterShape: (3, 3, 2048, 256))\n",
        "let out = aspp(input)\n",
        "print(out.shape)"
      ],
      "execution_count": null,
      "outputs": [
        {
          "output_type": "stream",
          "text": [
            "[1, 32, 32, 256]\r\n"
          ],
          "name": "stdout"
        }
      ]
    },
    {
      "cell_type": "markdown",
      "metadata": {
        "id": "xmzt1_x6G9A7"
      },
      "source": [
        "#### ImageFetures Block"
      ]
    },
    {
      "cell_type": "code",
      "metadata": {
        "id": "m3iSwvJBG_eS"
      },
      "source": [
        "public struct ImageFeature: Layer {\n",
        "\n",
        "  public var conv: Conv2D<Float>\n",
        "  public var batchNorm: BatchNorm<Float>\n",
        "\n",
        "  public init(\n",
        "    filterShape: (Int, Int, Int, Int),\n",
        "    epsilon: Float = 1e-5\n",
        "  ) {\n",
        "    conv = Conv2D<Float>(\n",
        "      filterShape: (filterShape.0, filterShape.1, filterShape.2, filterShape.3),\n",
        "      strides: (1,1),\n",
        "      padding: .same,\n",
        "      useBias: false)\n",
        "    batchNorm = BatchNorm<Float>(featureCount: filterShape.3, epsilon: epsilon)\n",
        "  }\n",
        "\n",
        "  @differentiable\n",
        "  public func callAsFunction(_ input: Tensor<Float>) -> Tensor<Float>{\n",
        "    let hw = input.shape[1...2]\n",
        "    var avgPooling = AvgPool2D<Float>(poolSize: (hw[0], hw[1]), strides: (hw[0], hw[1]))\n",
        "    \n",
        "    return resize(\n",
        "      images: relu(input.sequenced(through: avgPooling, conv, batchNorm)),\n",
        "      size: (newHeight: hw[0], newWidth: hw[1]),\n",
        "      method: .bilinear)\n",
        "  }\n",
        "}"
      ],
      "execution_count": null,
      "outputs": []
    },
    {
      "cell_type": "code",
      "metadata": {
        "colab": {
          "base_uri": "https://localhost:8080/"
        },
        "id": "RAILXufscEli",
        "outputId": "d85af868-29fd-47e5-9a50-5a13c3b9a643"
      },
      "source": [
        "let input = Tensor<Float>(ones: [1, 32, 32, 2048])\n",
        "let aspp = ImageFeature(filterShape: (1, 1, 2048, 256))\n",
        "let out = aspp(input)\n",
        "print(out.shape)"
      ],
      "execution_count": null,
      "outputs": [
        {
          "output_type": "stream",
          "text": [
            "[1, 32, 32, 256]\r\n"
          ],
          "name": "stdout"
        }
      ]
    },
    {
      "cell_type": "markdown",
      "metadata": {
        "id": "mUOc-vmiHH2a"
      },
      "source": [
        "### DeepLabV3+ Model"
      ]
    },
    {
      "cell_type": "code",
      "metadata": {
        "id": "P8pszBCxPDH1"
      },
      "source": [
        "let dilationRates = (1,2)\n",
        "let atrousRates = (6, 12, 18)\n",
        "let inputSize = 512\n",
        "let imageSize = (inputSize, inputSize, 3)\n",
        "let classes = 21\n",
        "let weight = \"pascalVOC\""
      ],
      "execution_count": null,
      "outputs": []
    },
    {
      "cell_type": "code",
      "metadata": {
        "colab": {
          "base_uri": "https://localhost:8080/"
        },
        "id": "9TVqkbOXf2Qs",
        "outputId": "f1ee3750-f3db-4beb-9277-3a85661dfe50"
      },
      "source": [
        "let input1 = Tensor<Float> (ones: [1, 32, 32, 256])\n",
        "let input2 = Tensor<Float> (ones: [1, 32, 32, 256])\n",
        "let input3 = Tensor<Float> (zeros: [1, 32, 32, 256])\n",
        "let input4 = Tensor<Float> (zeros: [1, 32, 32, 256])\n",
        "let out = concatenate(input1, input2)\n",
        "print(out.shape)"
      ],
      "execution_count": null,
      "outputs": [
        {
          "output_type": "stream",
          "text": [
            "[1, 32, 32, 512]\r\n"
          ],
          "name": "stdout"
        }
      ]
    },
    {
      "cell_type": "code",
      "metadata": {
        "colab": {
          "base_uri": "https://localhost:8080/"
        },
        "id": "9A7bViOvjJ6n",
        "outputId": "98e38d29-0131-4d54-d53e-5c9b645f0e90"
      },
      "source": [
        "let out1 = input1.concatenated(with: input2, alongAxis: -1)\n",
        "let out2 = input3.concatenated(with: input4, alongAxis: -1)\n",
        "let out = out1.concatenated(with: out2, alongAxis: -1)\n",
        "print(out.shape)"
      ],
      "execution_count": null,
      "outputs": [
        {
          "output_type": "stream",
          "text": [
            "[1, 32, 32, 1024]\r\n"
          ],
          "name": "stdout"
        }
      ]
    },
    {
      "cell_type": "code",
      "metadata": {
        "id": "lVA2ieoIPP6p"
      },
      "source": [
        "public struct deepLabV3: Layer {\n",
        "  @noDerivative let inputSize: Int\n",
        "\n",
        "  public var convBlock1: ConvBlock\n",
        "  public var convBlock2: ConvBlock\n",
        "  public var residualBlock1: ConvBlock\n",
        "  public var residualBlock2: ConvBlock\n",
        "  public var residualBlock3: ConvBlock\n",
        "  public var residualBlock4: ConvBlock\n",
        "  public var convEntryBlock1: [DepthwiseConvBlock] = []\n",
        "  public var convEntryBlock2: [DepthwiseConvBlock] = []\n",
        "  public var convEntryBlock3: [DepthwiseConvBlock] = []\n",
        "  public var convMiddleBlock: [MiddleFlow] = []\n",
        "  public var convExitBlock1: [DepthwiseConvBlock] = []\n",
        "  public var convExitBlock2: [DepthwiseConvBlock] = []\n",
        "  public var aspp0: ConvBlock\n",
        "  public var aspp1: ASPPLayer\n",
        "  public var aspp2: ASPPLayer\n",
        "  public var aspp3: ASPPLayer\n",
        "  public var aspp4: ImageFeature\n",
        "  public var featureProjection: ConvBlock\n",
        "  public var concatProjection: ConvBlock\n",
        "  public var decoderConv: [DepthwiseConvBlock] = []\n",
        "  public var lastConv: ConvBlock\n",
        "\n",
        "  public init(classCount: Int, inputSize: Int) {\n",
        "    self.inputSize = inputSize\n",
        "\n",
        "    // Entry flow\n",
        "    convBlock1 = ConvBlock(filterShape: (3, 3, 3, 32), strides: (2,2))\n",
        "    convBlock2 = ConvBlock(filterShape: (3, 3, 32, 64))\n",
        "    \n",
        "    // Block 1\n",
        "    residualBlock1 = ConvBlock(filterShape: (1, 1, 64, 128), strides: (2,2), depthAct: false)\n",
        "    convEntryBlock1.append(DepthwiseConvBlock(filterShape: (3, 3, 64, 128)))\n",
        "    convEntryBlock1.append(DepthwiseConvBlock(filterShape: (3, 3, 128, 128)))\n",
        "    convEntryBlock1.append(DepthwiseConvBlock(filterShape: (3, 3, 128, 128), strides: (2,2)))\n",
        "\n",
        "    // Block 2\n",
        "    residualBlock2 = ConvBlock(filterShape: (1, 1, 128, 256), strides: (2,2), depthAct: false)\n",
        "    convEntryBlock2.append(DepthwiseConvBlock(filterShape: (3, 3, 128, 256)))\n",
        "    convEntryBlock2.append(DepthwiseConvBlock(filterShape: (3, 3, 256, 256)))\n",
        "    convEntryBlock2.append(DepthwiseConvBlock(filterShape: (3, 3, 256, 256), strides: (2,2)))\n",
        "\n",
        "    // Block 3\n",
        "    residualBlock3 = ConvBlock(filterShape: (1, 1, 256, 728), strides: (2,2), depthAct: false)\n",
        "    convEntryBlock3.append(DepthwiseConvBlock(filterShape: (3, 3, 256, 728)))\n",
        "    convEntryBlock3.append(DepthwiseConvBlock(filterShape: (3, 3, 728, 728)))\n",
        "    convEntryBlock3.append(DepthwiseConvBlock(filterShape: (3, 3, 728, 728), strides: (2,2)))\n",
        "\n",
        "    // Middle Flow\n",
        "    convMiddleBlock = Array(repeating: MiddleFlow(), count: 16)\n",
        "    \n",
        "    // Exit Flow\n",
        "    residualBlock4 = ConvBlock(filterShape: (1, 1, 728, 1024), strides: (1,1), depthAct: false)\n",
        "    convExitBlock1.append(DepthwiseConvBlock(filterShape: (3, 3, 728, 728), dilations: dilationRates.0))\n",
        "    convExitBlock1.append(DepthwiseConvBlock(filterShape: (3, 3, 728, 1024), dilations: dilationRates.0))\n",
        "    convExitBlock1.append(DepthwiseConvBlock(filterShape: (3, 3, 1024, 1024), dilations: dilationRates.0))\n",
        "\n",
        "    convExitBlock2.append(DepthwiseConvBlock(\n",
        "      filterShape: (3, 3, 1024, 1536), \n",
        "      dilations: dilationRates.1, \n",
        "      depthAct: true))\n",
        "    convExitBlock2.append(DepthwiseConvBlock(\n",
        "      filterShape: (3, 3, 1536, 1536), \n",
        "      dilations: dilationRates.1,\n",
        "      depthAct: true))\n",
        "    convExitBlock2.append(DepthwiseConvBlock(\n",
        "      filterShape: (3, 3, 1536, 2048), \n",
        "      dilations: dilationRates.1,\n",
        "      depthAct: true))\n",
        "\n",
        "    // ASPP Module\n",
        "    aspp0 = ConvBlock(filterShape: (1, 1, 2048, 256), epsilon: 1e-5)\n",
        "    aspp1 = ASPPLayer(filterShape: (3, 3, 2048, 256), dilations: atrousRates.0)\n",
        "    aspp2 = ASPPLayer(filterShape: (3, 3, 2048, 256), dilations: atrousRates.1)\n",
        "    aspp3 = ASPPLayer(filterShape: (3, 3, 2048, 256), dilations: atrousRates.2)\n",
        "    aspp4 = ImageFeature(filterShape: (1, 1, 2048, 256))\n",
        "    concatProjection = ConvBlock(filterShape: (1, 1, 1280, 256), epsilon: 1e-5, applyDropout: true)\n",
        "\n",
        "    // Decoder\n",
        "    featureProjection = ConvBlock(filterShape: (1, 1, 256, 48), epsilon: 1e-5)\n",
        "    decoderConv.append(DepthwiseConvBlock(\n",
        "      filterShape: (3, 3, 304, 256), \n",
        "      epsilon: 1e-5,\n",
        "      depthAct: true))\n",
        "    decoderConv.append(DepthwiseConvBlock(\n",
        "      filterShape: (3, 3, 256, 256), \n",
        "      epsilon: 1e-5,\n",
        "      depthAct: true))\n",
        "\n",
        "    // Last Conv Layer\n",
        "    lastConv = ConvBlock(\n",
        "      filterShape: (1, 1, 256, classCount),\n",
        "      useBias: true,\n",
        "      epsilon: 1e-5,\n",
        "      applyBatchNorm: false,\n",
        "      depthAct: false\n",
        "    )\n",
        "  }\n",
        "\n",
        "  @differentiable\n",
        "  public func callAsFunction(_ input: Tensor<Float>) -> Tensor<Float> {\n",
        "    var residual: Tensor<Float>\n",
        "    var entryFlow = input.sequenced(through: convBlock1, convBlock2)\n",
        "    \n",
        "    // Block 1\n",
        "    residual = residualBlock1(entryFlow)\n",
        "    entryFlow = convEntryBlock1.differentiableReduce(entryFlow) {$1($0)}\n",
        "    entryFlow = entryFlow + residual\n",
        "    \n",
        "    // Block 2\n",
        "    residual = residualBlock2(entryFlow)\n",
        "    entryFlow = entryFlow.sequenced(through: convEntryBlock2[0], convEntryBlock2[1])\n",
        "    var lowLevelFeature = featureProjection(entryFlow)\n",
        "    entryFlow = convEntryBlock2[2](entryFlow) + residual\n",
        "\n",
        "    // Block 3\n",
        "    residual = residualBlock3(entryFlow)\n",
        "    entryFlow = convEntryBlock3.differentiableReduce(entryFlow) {$1($0)}\n",
        "    entryFlow = entryFlow + residual\n",
        "    \n",
        "    // Middle Flow\n",
        "    var middleFlow = entryFlow\n",
        "    for idx in 0..<16 {\n",
        "      residual = middleFlow\n",
        "      middleFlow = convMiddleBlock[idx](middleFlow)\n",
        "      middleFlow = middleFlow + residual\n",
        "    }\n",
        "    \n",
        "    // Exit Flow\n",
        "    var exitFlow = middleFlow\n",
        "    residual = residualBlock4(exitFlow)\n",
        "    exitFlow = convExitBlock1.differentiableReduce(exitFlow) {$1($0)}\n",
        "    exitFlow = exitFlow + residual\n",
        "    exitFlow = convExitBlock2.differentiableReduce(exitFlow) {$1($0)}\n",
        "\n",
        "    // ASPP Module\n",
        "    var asppModule: Tensor<Float>\n",
        "    asppModule = aspp0(exitFlow).concatenated(with: aspp1(exitFlow), alongAxis: -1)\n",
        "    asppModule = asppModule.concatenated(with: aspp2(exitFlow), alongAxis: -1)\n",
        "    asppModule = asppModule.concatenated(with: aspp3(exitFlow), alongAxis: -1)\n",
        "    asppModule = asppModule.concatenated(with: aspp4(exitFlow), alongAxis: -1)\n",
        "    asppModule = concatProjection(asppModule)\n",
        "\n",
        "    // Decoder\n",
        "    var decoder = asppModule\n",
        "    let hw = decoder.shape[1...2]\n",
        "    decoder = resize(\n",
        "      images: asppModule,\n",
        "      size: (newHeight: 4 * hw[0], newWidth: 4 * hw[1]),\n",
        "      method: .bilinear)\n",
        "    decoder = decoder.concatenated(with: lowLevelFeature, alongAxis: -1)\n",
        "    decoder = decoderConv.differentiableReduce(decoder) {$1($0)}\n",
        "    decoder = resize(\n",
        "      images: lastConv(decoder),\n",
        "      size: (newHeight: self.inputSize, newWidth: self.inputSize),\n",
        "      method: .bilinear)\n",
        "    return decoder\n",
        "  }\n",
        "}"
      ],
      "execution_count": null,
      "outputs": []
    },
    {
      "cell_type": "code",
      "metadata": {
        "colab": {
          "base_uri": "https://localhost:8080/"
        },
        "id": "bZ2uEYRhWW6Z",
        "outputId": "1af3afd9-bb50-40da-e6ce-96ffc6d26016"
      },
      "source": [
        "let inputTensor = Tensor<Float>(ones: [1, inputSize, inputSize, 3])\n",
        "var model = deepLabV3(classCount: classes, inputSize: inputSize)\n",
        "var output = model(inputTensor)\n",
        "print(output.shape)"
      ],
      "execution_count": null,
      "outputs": [
        {
          "output_type": "stream",
          "text": [
            "[1, 512, 512, 21]\r\n"
          ],
          "name": "stdout"
        }
      ]
    },
    {
      "cell_type": "markdown",
      "metadata": {
        "id": "3uy7HnNnwGIC"
      },
      "source": [
        "## Load Model Weights"
      ]
    },
    {
      "cell_type": "code",
      "metadata": {
        "colab": {
          "base_uri": "https://localhost:8080/",
          "height": 320
        },
        "id": "lJRhOXlLx_vK",
        "outputId": "711752b9-dddc-404c-98aa-60b616de41a8"
      },
      "source": [
        "let modelName = \"deeplabv3plus\"\n",
        "let backbone = \"xception\"\n",
        "\n",
        "struct Weights {\n",
        "    let name: String\n",
        "    let layer: Tensor<Float>\n",
        "}\n",
        "\n",
        "func get_pretrained_weights_dict(modelName: String, backbone: String) -> Array<Weights> {\n",
        "  var f = Python.None\n",
        "  let weightFileName = \"\\(modelName)_\\(backbone).npz\"\n",
        "  let weights = np.load(weightFileName)\n",
        "\n",
        "  var weights_array = Array<Weights>()\n",
        "  for param in weights {\n",
        "      weights_array.append(Weights(name: String(param)!, layer: Tensor<Float>(numpy: weights[param])!))\n",
        "  }\n",
        "  return weights_array\n",
        "}\n",
        "\n",
        "var weightsDict = get_pretrained_weights_dict(modelName: modelName, backbone: backbone)"
      ],
      "execution_count": null,
      "outputs": [
        {
          "output_type": "stream",
          "text": [
            "Fatal error: 'try!' expression unexpectedly raised an error: Python exception: Cannot load file containing pickled data when allow_pickle=False\r\n",
            "Traceback:\r\n",
            "  File \"/usr/local/lib/python3.6/dist-packages/numpy/lib/npyio.py\", line 457, in load\r\n",
            "    raise ValueError(\"Cannot load file containing pickled data \"\r\n",
            ": file PythonKit/Python.swift, line 598\r\n",
            "Current stack trace:\r\n",
            "0    libswiftCore.so                    0x00007fb91cd46550 swift_reportError + 50\r\n",
            "1    libswiftCore.so                    0x00007fb91cdb67f0 _swift_stdlib_reportFatalErrorInFile + 115\r\n",
            "2    libswiftCore.so                    0x00007fb91ca4b072 <unavailable> + 1564786\r\n",
            "3    libswiftCore.so                    0x00007fb91ca4ad80 <unavailable> + 1564032\r\n",
            "4    libswiftCore.so                    0x00007fb91ca4b25b <unavailable> + 1565275\r\n",
            "5    libswiftCore.so                    0x00007fb91ca49dd0 _assertionFailure(_:_:file:line:flags:) + 470\r\n",
            "6    libswiftCore.so                    0x00007fb91caa23c0 swift_unexpectedError + 1100\r\n"
          ],
          "name": "stdout"
        },
        {
          "output_type": "error",
          "ename": "",
          "evalue": "ignored",
          "traceback": [
            "Current stack trace:"
          ]
        }
      ]
    },
    {
      "cell_type": "code",
      "metadata": {
        "colab": {
          "base_uri": "https://localhost:8080/"
        },
        "id": "GmAhHVsxzP2C",
        "outputId": "47bf576d-f08d-4b91-8cdd-d68794c39bda"
      },
      "source": [
        "let modelName = \"deeplabv3plus\"\n",
        "let backbone = \"xception\"\n",
        "let MODEL_DIR = \"models\"\n",
        "let weightFileName = \"\\(modelName)_\\(backbone).npz\"\n",
        "\n",
        "if ~os.path.exists(MODEL_DIR) == -1 {\n",
        "  os.makedirs(MODEL_DIR)\n",
        "}\n",
        "\n",
        "let DATA_URL = \"https://drive.google.com/file/d/1hCrK7u6ixkPfrlB0H5DfxOucGfkeyAhx/view?usp=sharing\"\n",
        "let path = tf.keras.utils.get_file(weightFileName, DATA_URL, cache_subdir:\"\", cache_dir: MODEL_DIR)\n",
        "// let weights = np.load(path)"
      ],
      "execution_count": null,
      "outputs": [
        {
          "output_type": "stream",
          "text": [
            "Downloading data from https://drive.google.com/file/d/1hCrK7u6ixkPfrlB0H5DfxOucGfkeyAhx/view?usp=sharing\n",
            "  65536/Unknown - 0s 1us/step"
          ],
          "name": "stdout"
        }
      ]
    },
    {
      "cell_type": "code",
      "metadata": {
        "colab": {
          "base_uri": "https://localhost:8080/"
        },
        "id": "TTv_fxZ62MU_",
        "outputId": "66548a5e-65e9-4736-99fc-530c05f802e8"
      },
      "source": [
        "var f = Python.True\n",
        "print(~os.path.exists(MODEL_DIR))"
      ],
      "execution_count": null,
      "outputs": [
        {
          "output_type": "stream",
          "text": [
            "-1\r\n"
          ],
          "name": "stdout"
        }
      ]
    },
    {
      "cell_type": "code",
      "metadata": {
        "colab": {
          "base_uri": "https://localhost:8080/"
        },
        "id": "5P7_mdtMzpXR",
        "outputId": "769ab69c-345a-4a4f-bc05-cbc7106818b5"
      },
      "source": [
        "print(path)"
      ],
      "execution_count": null,
      "outputs": [
        {
          "output_type": "stream",
          "text": [
            "models/deeplabv3plus_xception.npz\r\n"
          ],
          "name": "stdout"
        }
      ]
    },
    {
      "cell_type": "code",
      "metadata": {
        "id": "Hg3w0r_d1wXE"
      },
      "source": [
        "print(os.)"
      ],
      "execution_count": null,
      "outputs": []
    },
    {
      "cell_type": "code",
      "metadata": {
        "colab": {
          "base_uri": "https://localhost:8080/"
        },
        "id": "NMlF71v52zTY",
        "outputId": "c9636836-d34c-4c63-ad01-140751b82fa8"
      },
      "source": [
        "subprocess.call(\"ls\")"
      ],
      "execution_count": null,
      "outputs": [
        {
          "output_type": "stream",
          "text": [
            "models\tsample_data\r\n"
          ],
          "name": "stdout"
        },
        {
          "output_type": "execute_result",
          "data": {
            "text/plain": [
              "Use `print()` to show values.\n"
            ]
          },
          "metadata": {
            "tags": []
          },
          "execution_count": 74
        }
      ]
    },
    {
      "cell_type": "code",
      "metadata": {
        "colab": {
          "base_uri": "https://localhost:8080/",
          "height": 320
        },
        "id": "RlW9pNQvzt3H",
        "outputId": "15cf82f9-f1b3-4871-ed41-4aebd16d5a1b"
      },
      "source": [
        "let weights = np.load(\"deeplabv3plus_xception.npz\", allow_pickle: Python.True)"
      ],
      "execution_count": null,
      "outputs": [
        {
          "output_type": "stream",
          "text": [
            "Fatal error: 'try!' expression unexpectedly raised an error: Python exception: Failed to interpret file 'deeplabv3plus_xception.npz' as a pickle\r\n",
            "Traceback:\r\n",
            "  File \"/usr/local/lib/python3.6/dist-packages/numpy/lib/npyio.py\", line 463, in load\r\n",
            "    \"Failed to interpret file %s as a pickle\" % repr(file))\r\n",
            ": file PythonKit/Python.swift, line 608\r\n",
            "Current stack trace:\r\n",
            "0    libswiftCore.so                    0x00007fb91cd46550 swift_reportError + 50\r\n",
            "1    libswiftCore.so                    0x00007fb91cdb67f0 _swift_stdlib_reportFatalErrorInFile + 115\r\n",
            "2    libswiftCore.so                    0x00007fb91ca4b072 <unavailable> + 1564786\r\n",
            "3    libswiftCore.so                    0x00007fb91ca4ad80 <unavailable> + 1564032\r\n",
            "4    libswiftCore.so                    0x00007fb91ca4b25b <unavailable> + 1565275\r\n",
            "5    libswiftCore.so                    0x00007fb91ca49dd0 _assertionFailure(_:_:file:line:flags:) + 470\r\n",
            "6    libswiftCore.so                    0x00007fb91caa23c0 swift_unexpectedError + 1100\r\n"
          ],
          "name": "stdout"
        },
        {
          "output_type": "error",
          "ename": "",
          "evalue": "ignored",
          "traceback": [
            "Current stack trace:"
          ]
        }
      ]
    },
    {
      "cell_type": "code",
      "metadata": {
        "id": "LmTaEmaZyGLv"
      },
      "source": [
        "let command = \"wget -nv -O- https://drive.google.com/file/d/1hCrK7u6ixkPfrlB0H5DfxOucGfkeyAhx/view?usp=sharing | tar xzf - -C .\"\n",
        "subprocess.call(command, shell: true)"
      ],
      "execution_count": null,
      "outputs": []
    },
    {
      "cell_type": "code",
      "metadata": {
        "id": "u2goNhzNwH5w"
      },
      "source": [
        "let weightFileName = \"\\(modelName)_\\(backbone).npz\"\n",
        "let weights = np.load(weightFileName)\n",
        "for params in weights {\n",
        "  print(params)\n",
        "}\n",
        "let x = weightsDict.filter {key in return key.name.contains(\"aspp1_pointwise_kernel\")}\n",
        "print(x)"
      ],
      "execution_count": null,
      "outputs": []
    }
  ]
}